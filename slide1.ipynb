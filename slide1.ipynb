{
 "cells": [
  {
   "cell_type": "markdown",
   "metadata": {
    "collapsed": true,
    "slideshow": {
     "slide_type": "slide"
    }
   },
   "source": [
    "# Looking inside Python dict\n",
    "###### by Denis Fetinin\n",
    "\n",
    "![alt text](./dictionarie.jpg \"Python dicts\")"
   ]
  },
  {
   "cell_type": "markdown",
   "metadata": {
    "slideshow": {
     "slide_type": "slide"
    }
   },
   "source": [
    "# Dictionaries are everywhere"
   ]
  },
  {
   "cell_type": "code",
   "execution_count": 1,
   "metadata": {
    "slideshow": {
     "slide_type": "fragment"
    }
   },
   "outputs": [
    {
     "data": {
      "text/plain": [
       "dict"
      ]
     },
     "execution_count": 1,
     "metadata": {},
     "output_type": "execute_result"
    }
   ],
   "source": [
    "type(globals())"
   ]
  },
  {
   "cell_type": "code",
   "execution_count": 2,
   "metadata": {
    "slideshow": {
     "slide_type": "fragment"
    }
   },
   "outputs": [
    {
     "data": {
      "text/plain": [
       "dict"
      ]
     },
     "execution_count": 2,
     "metadata": {},
     "output_type": "execute_result"
    }
   ],
   "source": [
    "type(locals())  # not really a dict, though"
   ]
  },
  {
   "cell_type": "code",
   "execution_count": 3,
   "metadata": {
    "slideshow": {
     "slide_type": "fragment"
    }
   },
   "outputs": [
    {
     "data": {
      "text/plain": [
       "dict"
      ]
     },
     "execution_count": 3,
     "metadata": {},
     "output_type": "execute_result"
    }
   ],
   "source": [
    "import os\n",
    "type(vars(os))"
   ]
  },
  {
   "cell_type": "code",
   "execution_count": 4,
   "metadata": {
    "slideshow": {
     "slide_type": "subslide"
    }
   },
   "outputs": [
    {
     "name": "stdout",
     "output_type": "stream",
     "text": [
      "<class 'mappingproxy'>\n",
      "<class 'dict'>\n"
     ]
    }
   ],
   "source": [
    "class A:\n",
    "    foo = 'foo'\n",
    "\n",
    "a = A()\n",
    "print(type(A.__dict__))\n",
    "print(type(a.__dict__))"
   ]
  },
  {
   "cell_type": "code",
   "execution_count": 5,
   "metadata": {
    "slideshow": {
     "slide_type": "fragment"
    }
   },
   "outputs": [
    {
     "name": "stdout",
     "output_type": "stream",
     "text": [
      "Error: 'mappingproxy' object does not support item assignment\n"
     ]
    }
   ],
   "source": [
    "# Note: A `mappingproxy` is simply a dict with no `__setattr__` method.\n",
    "try:\n",
    "    A.__dict__['foo'] = \"bar\"\n",
    "except TypeError as err:\n",
    "    print(f\"Error: {err}\")"
   ]
  },
  {
   "cell_type": "markdown",
   "metadata": {
    "slideshow": {
     "slide_type": "slide"
    }
   },
   "source": [
    "![alt text](./i_dont_always.jpg \"Python dicts\")"
   ]
  },
  {
   "cell_type": "markdown",
   "metadata": {
    "slideshow": {
     "slide_type": "slide"
    }
   },
   "source": [
    "# Let's talk about dictionaries\n",
    "\n",
    "### *Смотри на доску*"
   ]
  },
  {
   "cell_type": "markdown",
   "metadata": {
    "slideshow": {
     "slide_type": "slide"
    }
   },
   "source": [
    "## Hash in python"
   ]
  },
  {
   "cell_type": "code",
   "execution_count": 6,
   "metadata": {
    "slideshow": {
     "slide_type": "subslide"
    }
   },
   "outputs": [
    {
     "name": "stdout",
     "output_type": "stream",
     "text": [
      "[0, 1, 2, 3, 1000000000000000000, 776627963145224196]\n",
      "[0, -2, -2, -3]\n"
     ]
    }
   ],
   "source": [
    "print(list([hash(i) for i in (0, 1, 2, 3, 10**18, 10**19)]))\n",
    "print(list([hash(i) for i in (0, -1, -2, -3)]))\n",
    "# Python 2.7\n",
    "# >>> map(hash, (0, 1, 2, 3))\n",
    "# [0, 1, 2, 3]"
   ]
  },
  {
   "cell_type": "code",
   "execution_count": 7,
   "metadata": {
    "slideshow": {
     "slide_type": "subslide"
    }
   },
   "outputs": [
    {
     "name": "stdout",
     "output_type": "stream",
     "text": [
      "[211449447384222684, 3765800016815613955, -4458105079879927285]\n"
     ]
    }
   ],
   "source": [
    "print([hash(item) for item in ('namea', 'nameb', 'namec')])\n",
    "# Python 2.7\n",
    "# >>> [hash(item) for item in ('namea', 'nameb', 'namec')]\n",
    "#[-6456208310023038713, -6456208310023038716, -6456208310023038715]"
   ]
  },
  {
   "cell_type": "code",
   "execution_count": 1,
   "metadata": {
    "slideshow": {
     "slide_type": "subslide"
    }
   },
   "outputs": [],
   "source": [
    "def calc_hash_mod(key, n):\n",
    "    return hash(key) % n"
   ]
  },
  {
   "cell_type": "code",
   "execution_count": 2,
   "metadata": {
    "slideshow": {
     "slide_type": "subslide"
    }
   },
   "outputs": [],
   "source": [
    "def calc_idx(key, n):\n",
    "    i = hash(key) % n\n",
    "    yield i\n",
    "    while True:\n",
    "        i = (5 * i + 1) % n\n",
    "        yield i"
   ]
  },
  {
   "cell_type": "code",
   "execution_count": 4,
   "metadata": {
    "slideshow": {
     "slide_type": "subslide"
    }
   },
   "outputs": [],
   "source": [
    "from __future__ import print_function\n",
    "\n",
    "def calc_idx_v_perturb(key, n):\n",
    "    i = hash(key) % n\n",
    "    yield i\n",
    "    perturb = hash(key)\n",
    "    while True:\n",
    "        i = (5 * i + perturb + 1) % n\n",
    "        print(\"Perturb is\", perturb)\n",
    "        perturb >>= 5\n",
    "        yield i"
   ]
  },
  {
   "cell_type": "markdown",
   "metadata": {
    "slideshow": {
     "slide_type": "slide"
    }
   },
   "source": [
    "## Fast match"
   ]
  },
  {
   "cell_type": "code",
   "execution_count": null,
   "metadata": {
    "slideshow": {
     "slide_type": "fragment"
    }
   },
   "outputs": [],
   "source": [
    "def fast_match(key, target_key):\n",
    "    if key is target_key:           return True   # Fast\n",
    "    if key.hash != target_key.hash: return False  # Fast\n",
    "    return key == target_key                      # slow\n",
    "    "
   ]
  },
  {
   "cell_type": "markdown",
   "metadata": {
    "slideshow": {
     "slide_type": "slide"
    }
   },
   "source": [
    "# Compare Python 2 & 3"
   ]
  },
  {
   "cell_type": "code",
   "execution_count": null,
   "metadata": {
    "slideshow": {
     "slide_type": "subslide"
    }
   },
   "outputs": [],
   "source": [
    "# Python 2/3 copatibility\n",
    "try:\n",
    "    range = xrange\n",
    "except NameError:\n",
    "    pass\n",
    "\n",
    "\n",
    "class Foo(object):\n",
    "\n",
    "    def __init__(self, foo, bar, baz):\n",
    "        self.foo = foo\n",
    "        self.bar = bar\n",
    "        self.baz = baz\n",
    "\n",
    "[Foo('a', 'b', 'c') for _ in range(10000000)]"
   ]
  },
  {
   "cell_type": "markdown",
   "metadata": {
    "slideshow": {
     "slide_type": "subslide"
    }
   },
   "source": [
    "|                                    | Python 2.7 | Python 3.5 |\n",
    "|------------------------------------|------------|------------|\n",
    "| Elapsed (wall clock) time (m:ss)   | 0:19.92    | 0:12.47    |\n",
    "| Maximum resident set size (MB)     | 3,892.456  | 1,752.420  |"
   ]
  },
  {
   "cell_type": "markdown",
   "metadata": {
    "slideshow": {
     "slide_type": "slide"
    }
   },
   "source": [
    "Links:\n",
    "* https://github.com/python/cpython/blob/master/Objects/dictobject.c\n",
    "* https://www.laurentluce.com/posts/python-dictionary-implementation/\n",
    "* https://youtu.be/p33CVV29OG8\n",
    "* https://habr.com/company/buruki/blog/190336/\n"
   ]
  }
 ],
 "metadata": {
  "celltoolbar": "Slideshow",
  "kernelspec": {
   "display_name": "Python 3",
   "language": "python",
   "name": "python3"
  },
  "language_info": {
   "codemirror_mode": {
    "name": "ipython",
    "version": 3
   },
   "file_extension": ".py",
   "mimetype": "text/x-python",
   "name": "python",
   "nbconvert_exporter": "python",
   "pygments_lexer": "ipython3",
   "version": "3.7.0"
  }
 },
 "nbformat": 4,
 "nbformat_minor": 1
}
