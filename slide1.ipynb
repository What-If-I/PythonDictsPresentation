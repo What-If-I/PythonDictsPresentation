{
 "cells": [
  {
   "cell_type": "markdown",
   "metadata": {
    "collapsed": true,
    "slideshow": {
     "slide_type": "slide"
    }
   },
   "source": [
    "# Python dict evolution"
   ]
  },
  {
   "cell_type": "markdown",
   "metadata": {
    "slideshow": {
     "slide_type": "slide"
    }
   },
   "source": [
    "# Dictionaries! Dictionaries everywhere!"
   ]
  },
  {
   "cell_type": "code",
   "execution_count": 2,
   "metadata": {
    "slideshow": {
     "slide_type": "fragment"
    }
   },
   "outputs": [
    {
     "data": {
      "text/plain": [
       "dict"
      ]
     },
     "execution_count": 2,
     "metadata": {},
     "output_type": "execute_result"
    }
   ],
   "source": [
    "type(globals())"
   ]
  },
  {
   "cell_type": "code",
   "execution_count": 47,
   "metadata": {
    "slideshow": {
     "slide_type": "fragment"
    }
   },
   "outputs": [
    {
     "data": {
      "text/plain": [
       "dict"
      ]
     },
     "execution_count": 47,
     "metadata": {},
     "output_type": "execute_result"
    }
   ],
   "source": [
    "type(locals())  # not really a dict, though"
   ]
  },
  {
   "cell_type": "code",
   "execution_count": 7,
   "metadata": {
    "slideshow": {
     "slide_type": "fragment"
    }
   },
   "outputs": [
    {
     "data": {
      "text/plain": [
       "dict"
      ]
     },
     "execution_count": 7,
     "metadata": {},
     "output_type": "execute_result"
    }
   ],
   "source": [
    "import os\n",
    "type(vars(os))"
   ]
  },
  {
   "cell_type": "code",
   "execution_count": 44,
   "metadata": {
    "slideshow": {
     "slide_type": "fragment"
    }
   },
   "outputs": [
    {
     "name": "stdout",
     "output_type": "stream",
     "text": [
      "<class 'mappingproxy'>\n",
      "<class 'dict'>\n"
     ]
    }
   ],
   "source": [
    "class A:\n",
    "    foo = 'foo'\n",
    "\n",
    "a = A()\n",
    "print(type(vars(A)))\n",
    "print(type(vars(a)))"
   ]
  },
  {
   "cell_type": "code",
   "execution_count": 32,
   "metadata": {
    "slideshow": {
     "slide_type": "fragment"
    }
   },
   "outputs": [
    {
     "name": "stdout",
     "output_type": "stream",
     "text": [
      "TypeError ---> 'mappingproxy' object does not support item assignment\n",
      "TypeError ---> can't set attributes of built-in/extension type 'dict'\n"
     ]
    }
   ],
   "source": [
    "# Note: A `mappingproxy` is simply a dict with no `__setattr__` method.\n",
    "try:\n",
    "    A.__dict__['abc'] = \"abc\"\n",
    "except Exception as err:\n",
    "    print(f\"{err.__class__.__qualname__} ---> {err}\")"
   ]
  },
  {
   "cell_type": "code",
   "execution_count": 46,
   "metadata": {
    "slideshow": {
     "slide_type": "fragment"
    }
   },
   "outputs": [
    {
     "name": "stdout",
     "output_type": "stream",
     "text": [
      "TypeError: can't set attributes of built-in/extension type 'dict'\n"
     ]
    }
   ],
   "source": [
    "type(dict.__dict__)\n",
    "try:\n",
    "    dict.foo = \"bar\"\n",
    "except Exception as err:\n",
    "    print(f\"{err.__class__.__qualname__}: {err}\")"
   ]
  },
  {
   "cell_type": "code",
   "execution_count": 2,
   "metadata": {
    "slideshow": {
     "slide_type": "slide"
    }
   },
   "outputs": [],
   "source": [
    "class A:\n",
    "    a = 'a'\n",
    "    b = 'b'\n",
    "    c = 'c'\n",
    "\n",
    "_ = [A() for _ in range(10000000)]"
   ]
  },
  {
   "cell_type": "markdown",
   "metadata": {
    "slideshow": {
     "slide_type": "subslide"
    }
   },
   "source": [
    "|                                    | Python 2.7 | Python 3.5 |\n",
    "|------------------------------------|------------|------------|\n",
    "| Elapsed (wall clock) time (m:ss)   | 0:15.92    | 0:05.47    |\n",
    "| Maximum resident set size (MB)     | 3,972.456  | 643.420    |"
   ]
  }
 ],
 "metadata": {
  "celltoolbar": "Slideshow",
  "kernelspec": {
   "display_name": "Python 3",
   "language": "python",
   "name": "python3"
  },
  "language_info": {
   "codemirror_mode": {
    "name": "ipython",
    "version": 3
   },
   "file_extension": ".py",
   "mimetype": "text/x-python",
   "name": "python",
   "nbconvert_exporter": "python",
   "pygments_lexer": "ipython3",
   "version": "3.7.0"
  }
 },
 "nbformat": 4,
 "nbformat_minor": 1
}
